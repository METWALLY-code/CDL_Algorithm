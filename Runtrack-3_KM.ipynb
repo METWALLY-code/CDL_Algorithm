{
 "cells": [
  {
   "cell_type": "markdown",
   "metadata": {},
   "source": [
    "Runtrack 3: \n",
    "Jour  - Regex & Graphique\n",
    "\n",
    "By: Khaled METWALLY\n",
    "\n",
    "Date: 23/09/2022"
   ]
  },
  {
   "cell_type": "markdown",
   "metadata": {},
   "source": [
    "Job 0\n",
    "\n",
    "Créer un programme qui demande à l'utilisateur de renseigner une chaîne de caractères\n",
    "et qui écrit cette chaine de caractère dans un fichier “output.txt”."
   ]
  },
  {
   "cell_type": "code",
   "execution_count": 1,
   "metadata": {},
   "outputs": [
    {
     "name": "stdout",
     "output_type": "stream",
     "text": [
      "5\n"
     ]
    }
   ],
   "source": [
    "txt=input(\"Enter une une chaîne de caractères:\")\n",
    "\n",
    "with open('output.txt', 'w') as f:\n",
    "    f.writelines(txt)\n",
    "\n",
    "print(txt)  #may the force be with you"
   ]
  },
  {
   "cell_type": "markdown",
   "metadata": {},
   "source": [
    "Job 0.1\n",
    "\n",
    "Créer un programme qui lit le contenu du fichier “output.txt” et qui l’affiche dans le\n",
    "terminal."
   ]
  },
  {
   "cell_type": "code",
   "execution_count": 2,
   "metadata": {},
   "outputs": [
    {
     "name": "stdout",
     "output_type": "stream",
     "text": [
      "['5']\n"
     ]
    }
   ],
   "source": [
    "with open('output.txt') as f:\n",
    "    lines = f.readlines()\n",
    "\n",
    "print(lines)"
   ]
  },
  {
   "cell_type": "markdown",
   "metadata": {},
   "source": [
    "Créer un programme qui parcourt le contenu du fichier “domains.xml” et qui compte le\n",
    "nombre d’extension de domaines qui s’y trouvent (.com, .net, etc …)."
   ]
  },
  {
   "cell_type": "code",
   "execution_count": 3,
   "metadata": {},
   "outputs": [
    {
     "name": "stdout",
     "output_type": "stream",
     "text": [
      "string found in a file\n",
      "Line Number: 35\n",
      "Line:             <column name=\"domain\">0815.ru0clickemail.com</column>\n",
      "\n"
     ]
    }
   ],
   "source": [
    "with open(r\"domains.xml\", 'r') as fp:\n",
    "    for l_no, line in enumerate(fp):\n",
    "        # search string\n",
    "        if '.com' in line:\n",
    "            print('string found in a file')\n",
    "            print('Line Number:', l_no)\n",
    "            print('Line:', line)\n",
    "            # don't look for next lines\n",
    "            break"
   ]
  },
  {
   "cell_type": "code",
   "execution_count": 4,
   "metadata": {},
   "outputs": [],
   "source": [
    "# Using os path splitext\n",
    "\n",
    "import os\n",
    "\n",
    "nbOfExt=0\n",
    "ExtList=[]\n",
    "\n",
    "with open(r\"domains.xml\", 'r') as fp:\n",
    "    for l_no, line in enumerate(fp):\n",
    "        # search string\n",
    "        root_ext = os.path.splitext(line)[1]\n",
    "        if (root_ext in line) and (len(root_ext)>3) and (len(root_ext)<5):\n",
    "            nbOfExt=nbOfExt+1\n",
    "            ExtList.append(root_ext)\n",
    "            print('Line Number:', l_no)\n",
    "            print('Line:', line)\n",
    "            # don't look for next lines"
   ]
  },
  {
   "cell_type": "code",
   "execution_count": 5,
   "metadata": {},
   "outputs": [
    {
     "data": {
      "text/plain": [
       "[]"
      ]
     },
     "execution_count": 5,
     "metadata": {},
     "output_type": "execute_result"
    }
   ],
   "source": [
    "ExtList"
   ]
  },
  {
   "cell_type": "code",
   "execution_count": 6,
   "metadata": {},
   "outputs": [
    {
     "name": "stdout",
     "output_type": "stream",
     "text": [
      "311\n",
      ".com    173\n",
      ".net     34\n",
      ".de      17\n",
      ".org     15\n",
      ".inf     15\n",
      ".fr       9\n",
      ".co       4\n",
      ".us       4\n",
      ".eu       4\n",
      ".biz      3\n",
      ".me       3\n",
      ".at       3\n",
      ".in       3\n",
      ".ru       2\n",
      ".php      2\n",
      ".it       2\n",
      ".tk       1\n",
      ".web      1\n",
      ".naa      1\n",
      ".ht       1\n",
      ".law      1\n",
      ".ze       1\n",
      ".xl       1\n",
      ".ws       1\n",
      ".www      1\n",
      ".nu       1\n",
      ".w        1\n",
      ".zik      1\n",
      ".cc       1\n",
      ".lv       1\n",
      ".mez      1\n",
      ".by       1\n",
      ".blo      1\n",
      ".la       1\n",
      "dtype: int64\n"
     ]
    }
   ],
   "source": [
    "# Using regular expressions\n",
    "\n",
    "# import library\n",
    "import pandas as pd\n",
    "import re\n",
    "\n",
    "nbOfExt=0\n",
    "ExtList=[]\n",
    "\n",
    "with open(r\"domains.xml\", 'r') as fp:\n",
    "    for l_no, line in enumerate(fp):\n",
    "        #pattern_ext=r\"[.a-zA-Z0-9]\"\n",
    "        # pattern_ext=r\"[.([a-zA-Z]{2,6}|[a-zA-Z0-9-]{2,30}\\.[a-zA-Z]{2,3})]\"\n",
    "        \n",
    "        match =re.search('[.]+[a-z]{1,3}', line)#[\\.A-Za-z0-9]+\n",
    "        # search given pattern in the line \n",
    "        #match = re.search(\".xml\", line)\n",
    "        \n",
    "        #groups=[match.group(i) for i in range(1271)]\n",
    "\n",
    "        # if match is found\n",
    "        if match:\n",
    "            nbOfExt=nbOfExt+1\n",
    "            ExtList.append(match.group())\n",
    "            \n",
    "            #print(\"The file ending with .xml is:\", line)\n",
    "print(nbOfExt)\n",
    "ExtList\n",
    "my_dict = {i:ExtList.count(i) for i in ExtList}\n",
    "my_dict\n",
    "\n",
    "\n",
    "print(pd.Series(ExtList).value_counts())"
   ]
  },
  {
   "cell_type": "markdown",
   "metadata": {},
   "source": [
    "Créer un programme qui parcourt le contenu du fichier “data.txt” et qui compte le\n",
    "nombre de mots (sans caractère spéciaux) qui s’y trouvent."
   ]
  },
  {
   "cell_type": "code",
   "execution_count": 7,
   "metadata": {},
   "outputs": [
    {
     "name": "stdout",
     "output_type": "stream",
     "text": [
      "Number of words without special characters is:  1176509\n"
     ]
    }
   ],
   "source": [
    "import re\n",
    "\n",
    "nbOfWords=0\n",
    "\n",
    "with open(r\"data.txt\", 'r') as fp:\n",
    "    for l_no, line in enumerate(fp):\n",
    "        cleaned_line=re.sub('[^A-Za-z0-9]+', ' ', line)       # remove special characters\n",
    "        words=re.findall('\\w+', cleaned_line)\n",
    "        nbOfWords=nbOfWords+len(words)\n",
    "\n",
    "print('Number of words without special characters is: ',nbOfWords)"
   ]
  },
  {
   "cell_type": "markdown",
   "metadata": {},
   "source": [
    "Job 02\n",
    "\n",
    "Créer un programme qui demande à l’utilisateur de renseigner un nombre entier. Le\n",
    "programme devra alors parcourir le contenu du fichier “data.txt” compter le nombre de\n",
    "mots de la taille renseignée qui s’y trouvent."
   ]
  },
  {
   "cell_type": "code",
   "execution_count": 8,
   "metadata": {},
   "outputs": [
    {
     "name": "stdout",
     "output_type": "stream",
     "text": [
      "Number of words that contains 5 words is:  166592\n"
     ]
    }
   ],
   "source": [
    "import re\n",
    "required_length=input(\"Enter integer number\")\n",
    "\n",
    "counter=0\n",
    "word_list=[]\n",
    "with open(r\"data.txt\", 'r') as fp:\n",
    "    for l_no, line in enumerate(fp):\n",
    "        #word_list = [word for word in line.split() if len(word) == int(required_length)]\n",
    "        cleaned_line=re.sub('[^A-Za-z0-9]+', ' ', line)       # remove special characters\n",
    "        [word_list.append(word) for word in cleaned_line.split() if len(word) == int(required_length)]\n",
    "        counter += len(word_list)\n",
    "        #cleaned_line=re.sub('[^A-Za-z0-9]+', '', line)       # remove special characters\n",
    "        #words=re.findall('\\w+', cleaned_line)\n",
    "        #nbOfWords=nbOfWords+len(words)\n",
    "\n",
    "print('Number of words that contains', required_length,'words is: ', len(word_list))"
   ]
  },
  {
   "cell_type": "markdown",
   "metadata": {},
   "source": [
    "Job 03\n",
    "\n",
    "Écrire un programme qui parcourt le fichier “data.txt” et qui compte le nombre\n",
    "d'occurrence de chaque lettre (Minuscules et Capitales comptent pour la même lettre).\n",
    "A l’aide du module MatPlotLib, générer un histogramme représentant le pourcentage\n",
    "d’apparition de chaque lettre."
   ]
  },
  {
   "cell_type": "code",
   "execution_count": 9,
   "metadata": {},
   "outputs": [
    {
     "name": "stdout",
     "output_type": "stream",
     "text": [
      "e    767401\n",
      "i    737028\n",
      "t    554469\n",
      "u    544936\n",
      "a    528297\n",
      "s    481735\n",
      "n    414611\n",
      "m    381248\n",
      "o    356710\n",
      "r    353705\n",
      "d    220641\n",
      "c    206494\n",
      "l    181896\n",
      "p    175750\n",
      "q    145419\n",
      "v     91115\n",
      "b     79685\n",
      "h     53718\n",
      "g     52933\n",
      "f     50103\n",
      "x     20578\n",
      "y      2880\n",
      "z      1005\n",
      "k       475\n",
      "w       238\n",
      "j        76\n",
      "dtype: int64\n"
     ]
    },
    {
     "data": {
      "text/plain": [
       "<AxesSubplot:>"
      ]
     },
     "execution_count": 9,
     "metadata": {},
     "output_type": "execute_result"
    },
    {
     "data": {
      "image/png": "[encoded data removed]",
      "text/plain": [
       "<Figure size 640x480 with 1 Axes>"
      ]
     },
     "metadata": {},
     "output_type": "display_data"
    }
   ],
   "source": [
    "import matplotlib.pyplot as plt\n",
    "import re\n",
    "\n",
    "nbOfWords=0\n",
    "letters=[]\n",
    "lettersGroup=[]\n",
    "with open(r\"data.txt\", 'r') as fp:\n",
    "    for l_no, line in enumerate(fp):\n",
    "        cleaned_line=re.sub(r'[^A-Za-z]+', '', line).lower()      # remove special characters and numbers\n",
    "        for letter in cleaned_line :\n",
    "            if letter.strip() !='':\n",
    "                letters.append(letter)\n",
    "\n",
    "        #letters.append(list(cleaned_line))\n",
    "        #lineS =re.split(r'\\[A-Za-z]{0}', cleaned_line,2)\n",
    "        #match =re.search(r'\\[A-Za-z]{0}', cleaned_line)\n",
    "        #match=re.findall('\\[A-Za-z]{1,1}', letters)\n",
    "        #match =re.search(r'[a-z]', cleaned_line)#[\\.A-Za-z0-9]+\n",
    "        # search given pattern in the line \n",
    "        # if match is found\n",
    "        #if match:\n",
    "        #    nbOfExt=nbOfExt+1\n",
    "        #    lettersGroup.append(match.group())\n",
    "\n",
    "print(pd.Series(letters).value_counts())\n",
    "\n",
    "pd.Series(letters).value_counts(sort=False).plot(kind=\"bar\")"
   ]
  },
  {
   "cell_type": "code",
   "execution_count": 10,
   "metadata": {},
   "outputs": [
    {
     "data": {
      "text/plain": [
       "a    528297\n",
       "b     79685\n",
       "c    206494\n",
       "d    220641\n",
       "e    767401\n",
       "f     50103\n",
       "g     52933\n",
       "h     53718\n",
       "i    737028\n",
       "j        76\n",
       "k       475\n",
       "l    181896\n",
       "m    381248\n",
       "n    414611\n",
       "o    356710\n",
       "p    175750\n",
       "q    145419\n",
       "r    353705\n",
       "s    481735\n",
       "t    554469\n",
       "u    544936\n",
       "v     91115\n",
       "w       238\n",
       "x     20578\n",
       "y      2880\n",
       "z      1005\n",
       "dtype: int64"
      ]
     },
     "execution_count": 10,
     "metadata": {},
     "output_type": "execute_result"
    }
   ],
   "source": [
    "Sorted_letters=pd.Series(letters).value_counts().groupby(level=0).sum()\n",
    "Sorted_letters"
   ]
  },
  {
   "cell_type": "code",
   "execution_count": 11,
   "metadata": {},
   "outputs": [
    {
     "data": {
      "text/plain": [
       "<AxesSubplot:>"
      ]
     },
     "execution_count": 11,
     "metadata": {},
     "output_type": "execute_result"
    },
    {
     "data": {
      "image/png": "[encoded data removed]",
      "text/plain": [
       "<Figure size 640x480 with 1 Axes>"
      ]
     },
     "metadata": {},
     "output_type": "display_data"
    }
   ],
   "source": [
    "Sorted_letters.plot(kind=\"bar\")"
   ]
  },
  {
   "cell_type": "code",
   "execution_count": 12,
   "metadata": {},
   "outputs": [
    {
     "data": {
      "text/plain": [
       "<AxesSubplot:>"
      ]
     },
     "execution_count": 12,
     "metadata": {},
     "output_type": "execute_result"
    },
    {
     "data": {
      "image/png": "[encoded data removed]",
      "text/plain": [
       "<Figure size 640x480 with 1 Axes>"
      ]
     },
     "metadata": {},
     "output_type": "display_data"
    }
   ],
   "source": [
    "pd.Series(letters).value_counts(sort=False, normalize=True).mul(100).round(1).plot(kind=\"bar\")"
   ]
  },
  {
   "cell_type": "markdown",
   "metadata": {},
   "source": [
    "Job 13\n",
    "\n",
    "Écrire un programme qui parcourt le fichier “data.txt” et qui, pour chaque lettre, compte\n",
    "le nombre d'occurrence de la lettre suivante. Générer, ensuite, un graphique de courbes\n",
    "superposées, une courbe par lettre, montrant le pourcentage d’apparition de chaque\n",
    "lettre la suivant.\n",
    "Par exemple, pour le a: a(2%), b(5%), c(2.3%) …. pour le b: a(3%), b(0%), c(1%), …"
   ]
  },
  {
   "cell_type": "code",
   "execution_count": null,
   "metadata": {},
   "outputs": [],
   "source": []
  },
  {
   "cell_type": "markdown",
   "metadata": {},
   "source": [
    "Job 21\n",
    "\n",
    "Créer un générateur de mots en vous appuyant sur les statistiques précédemment\n",
    "calculées (longueur des mots, première lettre des mots, enchaînement de lettres)."
   ]
  },
  {
   "cell_type": "code",
   "execution_count": null,
   "metadata": {},
   "outputs": [],
   "source": []
  },
  {
   "cell_type": "markdown",
   "metadata": {},
   "source": [
    "Job 34\n",
    "\n",
    "En analysant à nouveau le fichier “data.txt”, établissez des statistiques synthétisant le\n",
    "nombre de mots par phrase. Produisez un histogramme présentant ces statistiques,\n",
    "puis, à l’aide de votre générateur de mot, créez un générateur de phrases à consonance\n",
    "de “Lorem Ipsum”."
   ]
  }
 ],
 "metadata": {
  "kernelspec": {
   "display_name": "Python 3.9.0 ('ML')",
   "language": "python",
   "name": "python3"
  },
  "language_info": {
   "codemirror_mode": {
    "name": "ipython",
    "version": 3
   },
   "file_extension": ".py",
   "mimetype": "text/x-python",
   "name": "python",
   "nbconvert_exporter": "python",
   "pygments_lexer": "ipython3",
   "version": "3.9.0"
  },
  "orig_nbformat": 4,
  "vscode": {
   "interpreter": {
    "hash": "a4c85275c58627338ff240ba8a02be8c890eddadcb06abd7e2ab7960aed9a606"
   }
  }
 },
 "nbformat": 4,
 "nbformat_minor": 2
}
