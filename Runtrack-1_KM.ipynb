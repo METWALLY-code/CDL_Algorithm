{
 "cells": [
  {
   "cell_type": "markdown",
   "metadata": {},
   "source": [
    "Runtrack 1\n",
    "\n",
    "By: Khaled METWALLY\n",
    "\n",
    "Date: 15/09/2022"
   ]
  },
  {
   "cell_type": "markdown",
   "metadata": {},
   "source": [
    "Job 02 : First code in jupyter notebook"
   ]
  },
  {
   "cell_type": "code",
   "execution_count": 1,
   "metadata": {},
   "outputs": [
    {
     "data": {
      "text/plain": [
       "13"
      ]
     },
     "execution_count": 1,
     "metadata": {},
     "output_type": "execute_result"
    }
   ],
   "source": [
    "10+3"
   ]
  },
  {
   "cell_type": "code",
   "execution_count": 2,
   "metadata": {},
   "outputs": [
    {
     "data": {
      "text/plain": [
       "30"
      ]
     },
     "execution_count": 2,
     "metadata": {},
     "output_type": "execute_result"
    }
   ],
   "source": [
    "10*3"
   ]
  },
  {
   "cell_type": "code",
   "execution_count": 3,
   "metadata": {},
   "outputs": [
    {
     "data": {
      "text/plain": [
       "1"
      ]
     },
     "execution_count": 3,
     "metadata": {},
     "output_type": "execute_result"
    }
   ],
   "source": [
    "10%3"
   ]
  },
  {
   "cell_type": "code",
   "execution_count": 4,
   "metadata": {},
   "outputs": [
    {
     "data": {
      "text/plain": [
       "7"
      ]
     },
     "execution_count": 4,
     "metadata": {},
     "output_type": "execute_result"
    }
   ],
   "source": [
    "10-3"
   ]
  },
  {
   "cell_type": "code",
   "execution_count": 5,
   "metadata": {},
   "outputs": [
    {
     "data": {
      "text/plain": [
       "3.3333333333333335"
      ]
     },
     "execution_count": 5,
     "metadata": {},
     "output_type": "execute_result"
    }
   ],
   "source": [
    "10/3"
   ]
  },
  {
   "cell_type": "code",
   "execution_count": 6,
   "metadata": {},
   "outputs": [
    {
     "data": {
      "text/plain": [
       "3"
      ]
     },
     "execution_count": 6,
     "metadata": {},
     "output_type": "execute_result"
    }
   ],
   "source": [
    "10//3"
   ]
  },
  {
   "cell_type": "markdown",
   "metadata": {},
   "source": [
    "Job 03 :\n",
    "Copiez le code ci-dessous dans un fichier nommé main.py : print(10 + 3)\n",
    "Assurez-vous que le résultat qui s’affiche dans le terminal soit 13 en exécutant votre programme grace a la commande :"
   ]
  },
  {
   "cell_type": "markdown",
   "metadata": {},
   "source": [
    "In terminal : python3 main.py"
   ]
  },
  {
   "cell_type": "markdown",
   "metadata": {},
   "source": [
    "Job 05 : \n",
    "Assurez-vous que votre environnement est correctement configuré en y exécutant le\n",
    "code des jobs 02 et 03."
   ]
  },
  {
   "cell_type": "markdown",
   "metadata": {},
   "source": [
    "Job 07:\n",
    "Créez une fonction nommée Add. Cette fonction devra prendre 2 nombres entiers en\n",
    "paramètres et retourner la somme de ces 2 entiers.\n",
    "Depuis votre programme, appelez cette fonction plusieurs fois en y passant des\n",
    "paramètres différents et affichez ces résultats"
   ]
  },
  {
   "cell_type": "code",
   "execution_count": 7,
   "metadata": {},
   "outputs": [
    {
     "name": "stdout",
     "output_type": "stream",
     "text": [
      "4\n",
      "10\n",
      "16\n"
     ]
    }
   ],
   "source": [
    "def Add(x,y):\n",
    "  return x+y\n",
    "\n",
    "print(Add(2,2))\n",
    "print(Add(5,5))\n",
    "print(Add(9,7))"
   ]
  },
  {
   "cell_type": "markdown",
   "metadata": {},
   "source": [
    "Job 11\n",
    "Créez un programme qui demande à l’utilisateur de renseigner son prénom via l’invite de commande grâce à la fonction input(). Le programme doit alors afficher dans le terminal “Hello xx !” ou xx est le prénom entré par l’utilisateur."
   ]
  },
  {
   "cell_type": "code",
   "execution_count": 8,
   "metadata": {},
   "outputs": [
    {
     "name": "stdout",
     "output_type": "stream",
     "text": [
      "Hello 1\n"
     ]
    }
   ],
   "source": [
    "name = input(\"Enter your name: \")\n",
    "\n",
    "print('Hello', name)"
   ]
  },
  {
   "cell_type": "code",
   "execution_count": 9,
   "metadata": {},
   "outputs": [
    {
     "name": "stdout",
     "output_type": "stream",
     "text": [
      "Hello 5\n"
     ]
    }
   ],
   "source": [
    "# Optimized code \n",
    "print(\"Hello {0}\".format(input()))"
   ]
  },
  {
   "cell_type": "markdown",
   "metadata": {},
   "source": [
    "Job 13\n",
    "Créez un programme qui demande 5 fois à l’utilisateur de renseigner un nombre entier. Stockez ces nombres entiers dans une liste puis triez-les par ordre croissant avant de les afficher, dans l’ordre, dans le terminal."
   ]
  },
  {
   "cell_type": "code",
   "execution_count": 10,
   "metadata": {},
   "outputs": [
    {
     "name": "stdout",
     "output_type": "stream",
     "text": [
      "Numbers in order ['4', '3', '2', '4', '55']\n",
      "Numbers in order 2\n",
      "Numbers in order 3\n",
      "Numbers in order 4\n",
      "Numbers in order 4\n",
      "Numbers in order 55\n"
     ]
    }
   ],
   "source": [
    "import numpy as np\n",
    "\n",
    "nombres =[]\n",
    "for i in range(5):\n",
    "    nombres = nombres + [input(\"Enter an integer number: \")]\n",
    "\n",
    "print('Numbers in order', nombres)\n",
    "nombres.sort()\n",
    "for i in range(5):\n",
    "    print('Numbers in order', nombres[i])"
   ]
  },
  {
   "cell_type": "markdown",
   "metadata": {},
   "source": [
    "Job 17\n",
    "Écrire un programme qui itère les nombres entiers de 1 à 100. Pour les multiples de trois, afficher \"Fizz\" au lieu du nombre et pour les multiples de cinq afficher \"Buzz\". Pour les nombres qui sont des multiples de trois et cinq, afficher \"FizzBuzz\"."
   ]
  },
  {
   "cell_type": "code",
   "execution_count": 11,
   "metadata": {},
   "outputs": [
    {
     "name": "stdout",
     "output_type": "stream",
     "text": [
      "Numbers in order [1, 2, 'Fizz', 4, 'Buzz', 'Fizz', 7, 8, 'Fizz', 'Buzz', 11, 'Fizz', 13, 14, 'FizzBuzz', 16, 17, 'Fizz', 19, 'Buzz', 'Fizz', 22, 23, 'Fizz', 'Buzz', 26, 'Fizz', 28, 29, 'FizzBuzz', 31, 32, 'Fizz', 34, 'Buzz', 'Fizz', 37, 38, 'Fizz', 'Buzz', 41, 'Fizz', 43, 44, 'FizzBuzz', 46, 47, 'Fizz', 49, 'Buzz', 'Fizz', 52, 53, 'Fizz', 'Buzz', 56, 'Fizz', 58, 59, 'FizzBuzz', 61, 62, 'Fizz', 64, 'Buzz', 'Fizz', 67, 68, 'Fizz', 'Buzz', 71, 'Fizz', 73, 74, 'FizzBuzz', 76, 77, 'Fizz', 79, 'Buzz', 'Fizz', 82, 83, 'Fizz', 'Buzz', 86, 'Fizz', 88, 89, 'FizzBuzz', 91, 92, 'Fizz', 94, 'Buzz', 'Fizz', 97, 98, 'Fizz', 'Buzz']\n"
     ]
    }
   ],
   "source": [
    "Affiche =[]\n",
    "for i in range(1,100+1,1):\n",
    "    if not (i%3 or i%5):\n",
    "        Affiche = Affiche + ['FizzBuzz']\n",
    "    elif not i%3:\n",
    "        Affiche = Affiche + ['Fizz']\n",
    "    elif not i%5:\n",
    "        Affiche = Affiche + ['Buzz']\n",
    "    else:\n",
    "        Affiche = Affiche + [i]\n",
    "\n",
    "print('Numbers in order', Affiche)"
   ]
  },
  {
   "cell_type": "markdown",
   "metadata": {},
   "source": [
    "Job 19\n",
    "Écrire un programme qui affiche dans le terminal un rectangle avec des ‘-’ et des ‘|’ en\n",
    "fonction des paramètres d’entrées, (width, height), par exemple :\n",
    "draw_rectangle(10, 3)"
   ]
  },
  {
   "cell_type": "code",
   "execution_count": 12,
   "metadata": {},
   "outputs": [
    {
     "name": "stdout",
     "output_type": "stream",
     "text": [
      "|----------|\n",
      "|          |\n",
      "|          |\n",
      "|----------|\n"
     ]
    }
   ],
   "source": [
    "# function \n",
    "def draw_rectangle(width, height):\n",
    "    row1=\"|\"\n",
    "    for i in range(width):\n",
    "        row1=row1+\"-\" \n",
    "    row1=row1+\"|\"\n",
    "    print(row1)\n",
    "    \n",
    "    row2=\"|\"\n",
    "    for i in range(width):\n",
    "        row2=row2+\" \"\n",
    "    row2=row2+\"|\"\n",
    "    \n",
    "    for i in range(1,height-1):\n",
    "       print(row2)\n",
    "    \n",
    "    print(row1)\n",
    "    return \n",
    "\n",
    "m=draw_rectangle(10, 4)"
   ]
  },
  {
   "cell_type": "markdown",
   "metadata": {},
   "source": [
    "Job 23\n",
    "Écrire un programme qui affiche dans le terminal un triangle avec des ‘_’, des ‘\\’ et des ‘/’ en fonction des paramètres d’entrées, (height), par exemple :\n",
    "draw_triangle(5)"
   ]
  },
  {
   "cell_type": "code",
   "execution_count": 13,
   "metadata": {},
   "outputs": [
    {
     "name": "stdout",
     "output_type": "stream",
     "text": [
      "\\\n"
     ]
    }
   ],
   "source": [
    "print(\"\\\\\")"
   ]
  },
  {
   "cell_type": "code",
   "execution_count": 14,
   "metadata": {},
   "outputs": [
    {
     "name": "stdout",
     "output_type": "stream",
     "text": [
      "    /\\    \n",
      "   /  \\   \n",
      "  /    \\  \n",
      " /      \\ \n",
      "/________\\\n"
     ]
    }
   ],
   "source": [
    "# functions\n",
    "from numpy import kaiser\n",
    "\n",
    "\n",
    "def leftShift(text,n):\n",
    "    return text[n:] + text[:n]\n",
    "\n",
    "def rightShift(text,n):\n",
    "    return text[-n:] + text[:-n]\n",
    "\n",
    "def draw_triangle(height):\n",
    "    LeftHalf=\"/\"\n",
    "    RightHalf='\\\\'\n",
    "    Half=\"\"\n",
    "  \n",
    "    for i in range(height-1):\n",
    "        Half=Half+\" \"\n",
    "\n",
    "    LeftHalf=Half+LeftHalf\n",
    "    RightHalf=RightHalf+Half\n",
    "    row1=LeftHalf+RightHalf\n",
    "    print(row1)\n",
    "\n",
    "    for i in range(height-1):\n",
    "        LeftHalf=leftShift(LeftHalf,1)\n",
    "        RightHalf=rightShift(RightHalf,1)\n",
    "        row=LeftHalf+RightHalf\n",
    "        if (i==height-2):\n",
    "            print(row.replace(\" \", \"_\"))\n",
    "        else :print(row)\n",
    "\n",
    "    return \n",
    "\n",
    "m=draw_triangle(5)"
   ]
  },
  {
   "cell_type": "markdown",
   "metadata": {},
   "source": [
    "Job 29\n",
    "Luke Skywalker, un professeur de Math, fait passer un test et décide de noter ses élèves\n",
    "sur une échelle allant de 0 à 100 inclus.\n",
    "Si un étudiant obtient moins de 40 sur 100, il échoue au test.\n",
    "S'il a plus de 40, il réussit le test. Luke est un professeur fort sympathique et décide\n",
    "donc d’arrondir à la hausse les notes des étudiants ayant réussi le test. Mais Luke n’est\n",
    "quand même pas trop gentil. Cet arrondi à la hausse ne bénéficiera qu’aux étudiants\n",
    "remplissant certains critères car, tout de même, il ne faut pas exagérer, sans blague.\n",
    "Le critère est simple: Si un étudiant a eu une note de moins de strictement 3 points de\n",
    "son prochain multiple de 5, alors sa note est arrondie à ce multiple de 5. Par exemple,\n",
    "un 83 sera arrondi à 85 alors qu’un 82 restera un 82.\n",
    "Pour simplifier le travail de Luke, écrivez une fonction qui prend en paramètre une liste\n",
    "de notes et qui renvoie une liste de notes, arrondies comme il se doit, quand cela est\n",
    "nécessaire."
   ]
  },
  {
   "cell_type": "code",
   "execution_count": 15,
   "metadata": {},
   "outputs": [
    {
     "name": "stdout",
     "output_type": "stream",
     "text": [
      "All possible notes [0, 1, 2, 5, 5, 5, 6, 7, 10, 10, 10, 11, 12, 15, 15, 15, 16, 17, 20, 20, 20, 21, 22, 25, 25, 25, 26, 27, 30, 30, 30, 31, 32, 35, 35, 35, 36, 37, 40, 40, 40, 41, 42, 45, 45, 45, 46, 47, 50, 50, 50, 51, 52, 55, 55, 55, 56, 57, 60, 60, 60, 61, 62, 65, 65, 65, 66, 67, 70, 70, 70, 71, 72, 75, 75, 75, 76, 77, 80, 80, 80, 81, 82, 85, 85, 85, 86, 87, 90, 90, 90, 91, 92, 95, 95, 95, 96, 97, 100, 100, 100]\n"
     ]
    }
   ],
   "source": [
    "Affiche =[]\n",
    "for i in range(0,100+1,1):\n",
    "    if  ((i%5) and ((i-1)%5) and ((i-2)%5)) :\n",
    "        Affiche = Affiche + [(int(i/5)+1)*5]\n",
    "    else:\n",
    "        Affiche = Affiche + [i]\n",
    "\n",
    "print('All possible notes', Affiche)"
   ]
  },
  {
   "cell_type": "code",
   "execution_count": 16,
   "metadata": {},
   "outputs": [
    {
     "data": {
      "text/plain": [
       "[82]"
      ]
     },
     "execution_count": 16,
     "metadata": {},
     "output_type": "execute_result"
    }
   ],
   "source": [
    "def arrondi(note):\n",
    "    if  ((note%5) and ((note-1)%5) and ((note-2)%5)) :\n",
    "        note =  [(int(note/5)+1)*5]\n",
    "    else:\n",
    "        note =  [note]\n",
    "    return note\n",
    "\n",
    "arrondi(82)"
   ]
  },
  {
   "cell_type": "code",
   "execution_count": 17,
   "metadata": {},
   "outputs": [
    {
     "data": {
      "text/plain": [
       "[[80], [81], [82], [85], [85], [85], [86], [87], [90], [90], [90]]"
      ]
     },
     "execution_count": 17,
     "metadata": {},
     "output_type": "execute_result"
    }
   ],
   "source": [
    "[(arrondi(i)) for i in range (80,91)]"
   ]
  },
  {
   "cell_type": "markdown",
   "metadata": {},
   "source": [
    "Job 31\n",
    "Créer un programme qui demandera à l’utilisateur de renseigner un mot et un seul, sans\n",
    "espace ni aucun autre caractère que les 26 lettres de l’alphabet (sans accent ni\n",
    "majuscule).\n",
    "Votre programme devra modifier ce mot, en y changeant de place certains caractères\n",
    "(ou tous) afin de donner un mot plus “loin” dans l’ordre alphabétique que le mot\n",
    "renseigné par l'utilisateur.\n",
    "Attention: Le nouveau mot doit être le mot le plus proche possible, dans l’ordre\n",
    "alphabétique, du mot original !\n",
    "Par exemple, “abcde” donnerait “abced”. “acedb” est aussi “valide” mais n’est PAS le\n",
    "plus proche du mot original dans l’ordre alphabétique."
   ]
  },
  {
   "cell_type": "code",
   "execution_count": 18,
   "metadata": {},
   "outputs": [
    {
     "data": {
      "text/plain": [
       "'eann'"
      ]
     },
     "execution_count": 18,
     "metadata": {},
     "output_type": "execute_result"
    }
   ],
   "source": [
    "user_pwd=input(\"Enter a password: \")\n",
    "\n",
    "import itertools\n",
    "\n",
    "perm = list(itertools.permutations(user_pwd))\n",
    "perm = [\"\".join(i) for i in perm]\n",
    "min([i for i in perm if i>user_pwd])\n"
   ]
  },
  {
   "cell_type": "code",
   "execution_count": 19,
   "metadata": {},
   "outputs": [],
   "source": [
    "user_pwd=input(\"Enter a password: \")\n",
    "#L=list(user_pwd)\n",
    "L=[*user_pwd]   # seperate letters in list"
   ]
  },
  {
   "cell_type": "code",
   "execution_count": 20,
   "metadata": {},
   "outputs": [
    {
     "data": {
      "text/plain": [
       "'e'"
      ]
     },
     "execution_count": 20,
     "metadata": {},
     "output_type": "execute_result"
    }
   ],
   "source": [
    "n=len(L)\n",
    "L[n-1]        "
   ]
  },
  {
   "cell_type": "code",
   "execution_count": 21,
   "metadata": {},
   "outputs": [],
   "source": [
    "def next_word(w):\n",
    "    letters = 'abcdefghijklmnopqrstuvwxyz'\n",
    "    res = ''\n",
    "    for i in range(len(w)-2, -1, -1):\n",
    "        for c in sorted(w[i+1:]):\n",
    "            if c > w[i]:\n",
    "                res =  w[:i] + c + ''.join(sorted(w[i:].replace(c,'',1)))\n",
    "        if res : break\n",
    "    print(res)"
   ]
  },
  {
   "cell_type": "code",
   "execution_count": 22,
   "metadata": {},
   "outputs": [
    {
     "name": "stdout",
     "output_type": "stream",
     "text": [
      "naen\n"
     ]
    }
   ],
   "source": [
    "user_pwd=input(\"Enter a password: \")\n",
    "next_word(user_pwd)"
   ]
  },
  {
   "cell_type": "code",
   "execution_count": 26,
   "metadata": {},
   "outputs": [],
   "source": [
    "l3 = []\n",
    "l2=['a', 'n', 'n', 'e'] # => \"eann\"\n",
    "i=0\n",
    "for n in l2[::-2]: # enna\n",
    "    if i < len(n)-2:\n",
    "      j = 0\n",
    "      for j in range(len(l2[i:])):\n",
    "        if(l2[i] < sorted(l2[i+1:])[i+j]):\n",
    "          break\n",
    "        else:\n",
    "          l3.append(l2[i+1])\n",
    "          l2.remove(l2[i+1])\n",
    "          lend = [*l3, *sorted(l2)]\n",
    "          print(lend)\n",
    "          break"
   ]
  },
  {
   "cell_type": "code",
   "execution_count": 28,
   "metadata": {},
   "outputs": [
    {
     "ename": "NameError",
     "evalue": "name 'lend' is not defined",
     "output_type": "error",
     "traceback": [
      "\u001b[0;31m---------------------------------------------------------------------------\u001b[0m",
      "\u001b[0;31mNameError\u001b[0m                                 Traceback (most recent call last)",
      "\u001b[0;32m/tmp/ipykernel_7901/3308456066.py\u001b[0m in \u001b[0;36m<module>\u001b[0;34m\u001b[0m\n\u001b[0;32m----> 1\u001b[0;31m \u001b[0mprint\u001b[0m\u001b[0;34m(\u001b[0m\u001b[0mlend\u001b[0m\u001b[0;34m)\u001b[0m\u001b[0;34m\u001b[0m\u001b[0;34m\u001b[0m\u001b[0m\n\u001b[0m",
      "\u001b[0;31mNameError\u001b[0m: name 'lend' is not defined"
     ]
    }
   ],
   "source": [
    "print(lend)"
   ]
  }
 ],
 "metadata": {
  "kernelspec": {
   "display_name": "Python 3.9.0 ('ML')",
   "language": "python",
   "name": "python3"
  },
  "language_info": {
   "codemirror_mode": {
    "name": "ipython",
    "version": 3
   },
   "file_extension": ".py",
   "mimetype": "text/x-python",
   "name": "python",
   "nbconvert_exporter": "python",
   "pygments_lexer": "ipython3",
   "version": "3.9.0"
  },
  "orig_nbformat": 4,
  "vscode": {
   "interpreter": {
    "hash": "a4c85275c58627338ff240ba8a02be8c890eddadcb06abd7e2ab7960aed9a606"
   }
  }
 },
 "nbformat": 4,
 "nbformat_minor": 2
}
