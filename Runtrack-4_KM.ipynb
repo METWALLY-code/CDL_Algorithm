{
 "cells": [
  {
   "cell_type": "markdown",
   "metadata": {},
   "source": [
    "Runtrack 3: \n",
    "Jour  - Regex & Graphique\n",
    "\n",
    "By: Khaled METWALLY\n",
    "\n",
    "Date: 23/09/2022"
   ]
  },
  {
   "cell_type": "markdown",
   "metadata": {},
   "source": [
    "Job 0\n",
    "\n",
    "Créer un programme demandant à l’utilisateur de renseigner un nombre entier. Votre\n",
    "programme devra calculer la factorielle de ce nombre, sans utiliser de fonction autre\n",
    "que les vôtres. Attention, vous ne devez utiliser ni while, ni for, ni foreach ni … boucle.\n",
    "Seulement de la récursivité."
   ]
  },
  {
   "cell_type": "code",
   "execution_count": 11,
   "metadata": {},
   "outputs": [
    {
     "data": {
      "text/plain": [
       "24"
      ]
     },
     "execution_count": 11,
     "metadata": {},
     "output_type": "execute_result"
    }
   ],
   "source": [
    "def factorielle(n):\n",
    "    if (n <= 1):\n",
    "        return 1\n",
    "    else:\n",
    "        return n*factorielle(n-1); \n",
    "\n",
    "factorielle(int(4.6))"
   ]
  },
  {
   "cell_type": "markdown",
   "metadata": {},
   "source": [
    "Job 0.1\n",
    "\n",
    "Créer un programme demandant à l’utilisateur de renseigner un nombre entier. Votre\n",
    "programme devra calculer x^n, où n est le nombre fourni par l’utilisateur, sans utiliser de\n",
    "fonction autre que les vôtres. Attention, vous ne devez utiliser ni while, ni for, ni foreach\n",
    "ni … boucle. Seulement de la récursivité."
   ]
  },
  {
   "cell_type": "code",
   "execution_count": 13,
   "metadata": {},
   "outputs": [
    {
     "name": "stdout",
     "output_type": "stream",
     "text": [
      "16\n"
     ]
    }
   ],
   "source": [
    "# Recrusive x^n\n",
    "def power(x, n):\n",
    "\n",
    "    # If x^0 return 1\n",
    "    if (n == 0):\n",
    "        return 1\n",
    " \n",
    "    # If we need to find of 0^y\n",
    "    if (x == 0):\n",
    "        return 0\n",
    " \n",
    "    # For all other cases\n",
    "    return x * power(x, n-1)\n",
    " \n",
    " \n",
    "# Test Code\n",
    "x = 2\n",
    "n = int(input(\"Entre an integer of the power \"))\n",
    " \n",
    "print(power(x, n))"
   ]
  },
  {
   "cell_type": "markdown",
   "metadata": {},
   "source": [
    "Job 03\n",
    "\n",
    "Créer un programme qui modélise un plateau de jeu, carré, de n x n cases. Placez sur ce\n",
    "plateau n dames de jeu d'échecs, de manière à ce qu’aucune dame ne puisse se\n",
    "“prendre”, quand cela est possible. La valeur de n est renseignée par l’utilisateur. Quand\n",
    "cela est possible, le programme devra afficher dans le terminal le plateau de jeu avec le\n",
    "caractère ‘O’ pour les cases vides et le caractère ‘X’ pour représenter les dames."
   ]
  },
  {
   "cell_type": "code",
   "execution_count": null,
   "metadata": {},
   "outputs": [],
   "source": []
  }
 ],
 "metadata": {
  "kernelspec": {
   "display_name": "Python 3.9.0 ('ML')",
   "language": "python",
   "name": "python3"
  },
  "language_info": {
   "codemirror_mode": {
    "name": "ipython",
    "version": 3
   },
   "file_extension": ".py",
   "mimetype": "text/x-python",
   "name": "python",
   "nbconvert_exporter": "python",
   "pygments_lexer": "ipython3",
   "version": "3.9.0"
  },
  "orig_nbformat": 4,
  "vscode": {
   "interpreter": {
    "hash": "a4c85275c58627338ff240ba8a02be8c890eddadcb06abd7e2ab7960aed9a606"
   }
  }
 },
 "nbformat": 4,
 "nbformat_minor": 2
}
