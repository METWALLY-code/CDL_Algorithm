{
 "cells": [
  {
   "cell_type": "markdown",
   "metadata": {},
   "source": [
    "Runtrack 2: \n",
    "\n",
    "Jour 2 - Class en python\n",
    "La programmation c’est class\n",
    "\n",
    "By: Khaled METWALLY\n",
    "\n",
    "Date: 15/09/2022"
   ]
  },
  {
   "cell_type": "markdown",
   "metadata": {},
   "source": [
    "Introduction de classes"
   ]
  },
  {
   "cell_type": "code",
   "execution_count": 15,
   "metadata": {},
   "outputs": [
    {
     "name": "stdout",
     "output_type": "stream",
     "text": [
      "x= 2 , y= 3\n"
     ]
    }
   ],
   "source": [
    "# Class for Point\n",
    " \n",
    "class Point:\n",
    "\n",
    "    # The init method or constructor\n",
    "    def __init__(self, x, y):\n",
    "        self.__x = x\n",
    "        self.__y = y\n",
    "\n",
    "    def get_coordinate(self):\n",
    "        return self.__x,self.__y\n",
    "    \n",
    "    def set_coordinate(self,x1,y1):\n",
    "        self.__x=x1\n",
    "        self.__y=y1\n",
    "\n",
    "P1=Point(2,3)\n",
    "\n",
    "x,y=P1.get_coordinate()\n",
    "print('x=', x,', y=', y)"
   ]
  },
  {
   "cell_type": "markdown",
   "metadata": {},
   "source": [
    "Job 0\n",
    "Créez une classe “Personne” avec les attributs “nom”, “prenom”. Ajoutez une méthode “SePresenter()” qui affichera dans le terminal le nom et le prénom de la personne.\n",
    "Ajoutez aussi un constructeur prenant en paramètres de quoi donner des valeurs initiales aux attributs “nom” et “prenom”. Instanciez plusieurs personnes avec les\n",
    "valeurs de construction de votre choix et faites appel à la méthode “SePresenter()” afin de vérifier que tout fonctionne correctement. Ajouter un “accesseur” et un “mutateur”\n",
    "pour chacun des attributs."
   ]
  },
  {
   "cell_type": "code",
   "execution_count": 16,
   "metadata": {},
   "outputs": [
    {
     "name": "stdout",
     "output_type": "stream",
     "text": [
      "Salut, je suis nom prenom\n",
      "Salut, je suis Lombard Bruno\n",
      "Salut, je suis Baille Roger\n"
     ]
    },
    {
     "ename": "KeyboardInterrupt",
     "evalue": "Interrupted by user",
     "output_type": "error",
     "traceback": [
      "\u001b[0;31m---------------------------------------------------------------------------\u001b[0m",
      "\u001b[0;31mKeyboardInterrupt\u001b[0m                         Traceback (most recent call last)",
      "\u001b[0;32m/tmp/ipykernel_4408/156114848.py\u001b[0m in \u001b[0;36m<module>\u001b[0;34m\u001b[0m\n\u001b[1;32m     34\u001b[0m \u001b[0;34m\u001b[0m\u001b[0m\n\u001b[1;32m     35\u001b[0m \u001b[0mp\u001b[0m\u001b[0;34m=\u001b[0m \u001b[0mPersonne\u001b[0m\u001b[0;34m(\u001b[0m\u001b[0;34m)\u001b[0m\u001b[0;34m\u001b[0m\u001b[0;34m\u001b[0m\u001b[0m\n\u001b[0;32m---> 36\u001b[0;31m \u001b[0mp\u001b[0m\u001b[0;34m.\u001b[0m\u001b[0mmutateur_nom\u001b[0m\u001b[0;34m(\u001b[0m\u001b[0;34m)\u001b[0m\u001b[0;34m\u001b[0m\u001b[0;34m\u001b[0m\u001b[0m\n\u001b[0m\u001b[1;32m     37\u001b[0m \u001b[0mp\u001b[0m\u001b[0;34m.\u001b[0m\u001b[0mmutateur_prenom\u001b[0m\u001b[0;34m(\u001b[0m\u001b[0;34m)\u001b[0m\u001b[0;34m\u001b[0m\u001b[0;34m\u001b[0m\u001b[0m\n\u001b[1;32m     38\u001b[0m \u001b[0mp\u001b[0m\u001b[0;34m.\u001b[0m\u001b[0mSePresenter\u001b[0m\u001b[0;34m(\u001b[0m\u001b[0;34m)\u001b[0m\u001b[0;34m\u001b[0m\u001b[0;34m\u001b[0m\u001b[0m\n",
      "\u001b[0;32m/tmp/ipykernel_4408/156114848.py\u001b[0m in \u001b[0;36mmutateur_nom\u001b[0;34m(self)\u001b[0m\n\u001b[1;32m     13\u001b[0m \u001b[0;34m\u001b[0m\u001b[0m\n\u001b[1;32m     14\u001b[0m     \u001b[0;32mdef\u001b[0m \u001b[0mmutateur_nom\u001b[0m\u001b[0;34m(\u001b[0m\u001b[0mself\u001b[0m\u001b[0;34m)\u001b[0m\u001b[0;34m:\u001b[0m\u001b[0;34m\u001b[0m\u001b[0;34m\u001b[0m\u001b[0m\n\u001b[0;32m---> 15\u001b[0;31m         \u001b[0mself\u001b[0m\u001b[0;34m.\u001b[0m\u001b[0mnom\u001b[0m \u001b[0;34m=\u001b[0m \u001b[0minput\u001b[0m\u001b[0;34m(\u001b[0m\u001b[0;34m\"Ajouter votre nom: \"\u001b[0m\u001b[0;34m)\u001b[0m\u001b[0;34m\u001b[0m\u001b[0;34m\u001b[0m\u001b[0m\n\u001b[0m\u001b[1;32m     16\u001b[0m \u001b[0;34m\u001b[0m\u001b[0m\n\u001b[1;32m     17\u001b[0m     \u001b[0;32mdef\u001b[0m \u001b[0maccesseur_prenom\u001b[0m\u001b[0;34m(\u001b[0m\u001b[0mself\u001b[0m\u001b[0;34m)\u001b[0m\u001b[0;34m:\u001b[0m\u001b[0;34m\u001b[0m\u001b[0;34m\u001b[0m\u001b[0m\n",
      "\u001b[0;32m~/anaconda3/envs/ML/lib/python3.9/site-packages/ipykernel/kernelbase.py\u001b[0m in \u001b[0;36mraw_input\u001b[0;34m(self, prompt)\u001b[0m\n\u001b[1;32m   1175\u001b[0m                 \u001b[0;34m\"raw_input was called, but this frontend does not support input requests.\"\u001b[0m\u001b[0;34m\u001b[0m\u001b[0;34m\u001b[0m\u001b[0m\n\u001b[1;32m   1176\u001b[0m             )\n\u001b[0;32m-> 1177\u001b[0;31m         return self._input_request(\n\u001b[0m\u001b[1;32m   1178\u001b[0m             \u001b[0mstr\u001b[0m\u001b[0;34m(\u001b[0m\u001b[0mprompt\u001b[0m\u001b[0;34m)\u001b[0m\u001b[0;34m,\u001b[0m\u001b[0;34m\u001b[0m\u001b[0;34m\u001b[0m\u001b[0m\n\u001b[1;32m   1179\u001b[0m             \u001b[0mself\u001b[0m\u001b[0;34m.\u001b[0m\u001b[0m_parent_ident\u001b[0m\u001b[0;34m[\u001b[0m\u001b[0;34m\"shell\"\u001b[0m\u001b[0;34m]\u001b[0m\u001b[0;34m,\u001b[0m\u001b[0;34m\u001b[0m\u001b[0;34m\u001b[0m\u001b[0m\n",
      "\u001b[0;32m~/anaconda3/envs/ML/lib/python3.9/site-packages/ipykernel/kernelbase.py\u001b[0m in \u001b[0;36m_input_request\u001b[0;34m(self, prompt, ident, parent, password)\u001b[0m\n\u001b[1;32m   1217\u001b[0m             \u001b[0;32mexcept\u001b[0m \u001b[0mKeyboardInterrupt\u001b[0m\u001b[0;34m:\u001b[0m\u001b[0;34m\u001b[0m\u001b[0;34m\u001b[0m\u001b[0m\n\u001b[1;32m   1218\u001b[0m                 \u001b[0;31m# re-raise KeyboardInterrupt, to truncate traceback\u001b[0m\u001b[0;34m\u001b[0m\u001b[0;34m\u001b[0m\u001b[0;34m\u001b[0m\u001b[0m\n\u001b[0;32m-> 1219\u001b[0;31m                 \u001b[0;32mraise\u001b[0m \u001b[0mKeyboardInterrupt\u001b[0m\u001b[0;34m(\u001b[0m\u001b[0;34m\"Interrupted by user\"\u001b[0m\u001b[0;34m)\u001b[0m \u001b[0;32mfrom\u001b[0m \u001b[0;32mNone\u001b[0m\u001b[0;34m\u001b[0m\u001b[0;34m\u001b[0m\u001b[0m\n\u001b[0m\u001b[1;32m   1220\u001b[0m             \u001b[0;32mexcept\u001b[0m \u001b[0mException\u001b[0m\u001b[0;34m:\u001b[0m\u001b[0;34m\u001b[0m\u001b[0;34m\u001b[0m\u001b[0m\n\u001b[1;32m   1221\u001b[0m                 \u001b[0mself\u001b[0m\u001b[0;34m.\u001b[0m\u001b[0mlog\u001b[0m\u001b[0;34m.\u001b[0m\u001b[0mwarning\u001b[0m\u001b[0;34m(\u001b[0m\u001b[0;34m\"Invalid Message:\"\u001b[0m\u001b[0;34m,\u001b[0m \u001b[0mexc_info\u001b[0m\u001b[0;34m=\u001b[0m\u001b[0;32mTrue\u001b[0m\u001b[0;34m)\u001b[0m\u001b[0;34m\u001b[0m\u001b[0;34m\u001b[0m\u001b[0m\n",
      "\u001b[0;31mKeyboardInterrupt\u001b[0m: Interrupted by user"
     ]
    }
   ],
   "source": [
    "# Class with init method\n",
    "\n",
    "class Personne:\n",
    " \n",
    "    # init method or constructor\n",
    "    def __init__(self, nom=\"nom\", prenom=\"prenom\"):\n",
    "        self.nom = nom\n",
    "        self.prenom = prenom\n",
    " \n",
    "    # Method\n",
    "    def accesseur_nom(self):\n",
    "        return print('NOM: ', self.nom)\n",
    "    \n",
    "    def mutateur_nom(self):\n",
    "        self.nom = input(\"Ajouter votre nom: \")\n",
    "\n",
    "    def accesseur_prenom(self):\n",
    "        return print('PRENOM: ', self.prenom)\n",
    "    \n",
    "    def mutateur_prenom(self):\n",
    "        self.prenom = input(\"Ajouter votre prenom: \")\n",
    "\n",
    "    def SePresenter(self):\n",
    "        print('Salut, je suis', self.nom, self.prenom)\n",
    " \n",
    "p0= Personne()\n",
    "p0.SePresenter()\n",
    "\n",
    "p1 = Personne(\"Lombard\", \"Bruno\")\n",
    "p2 = Personne(\"Baille\", \"Roger\")\n",
    "\n",
    "p1.SePresenter()\n",
    "p2.SePresenter()\n",
    "\n",
    "p= Personne()\n",
    "p.mutateur_nom()\n",
    "p.mutateur_prenom()\n",
    "p.SePresenter()\n"
   ]
  },
  {
   "cell_type": "code",
   "execution_count": null,
   "metadata": {},
   "outputs": [
    {
     "name": "stdout",
     "output_type": "stream",
     "text": [
      "NOM:  Lombard\n"
     ]
    }
   ],
   "source": [
    "p1.accesseur_nom()"
   ]
  },
  {
   "cell_type": "markdown",
   "metadata": {},
   "source": [
    "Job 01\n",
    "Créer une classe “Livre” avec comme attribut un “titre” qu’elle reçoit en paramètre à la construction et une référence vers une classe “Auteur”. Ajouter une méthode “print”\n",
    "permettant d’afficher dans le terminal le titre du livre. Créer une classe “Auteur” héritant de la classe “Personne” recevant un nom et un prénom en paramètre de construction.\n",
    "La classe auteur devra posséder une collection de livres nommée \"œuvre\" en attribut ainsi qu’une méthode “listerOeuvre” affichant dans le terminal la liste des livres écrits\n",
    "par l’auteur. Ajouter à la classe Auteur une méthode “ecrireUnLivre” prenant en paramètre un titre de livre à écrire et générer une instance de la classe livre avec ce\n",
    "titre. Ajouter ce nouveau livre à l’oeuvre de l’auteur"
   ]
  },
  {
   "cell_type": "code",
   "execution_count": null,
   "metadata": {},
   "outputs": [],
   "source": [
    "# Class with init method\n",
    "class Livre:\n",
    "    # init method or constructor\n",
    "    def __init__(self, titre=\"titre\"):\n",
    "        self.titre = titre\n",
    "  \n",
    "    # Method\n",
    "    def printStr(self):\n",
    "        print('Titre du livre:', self.titre)\n",
    " \n",
    " # Inherited or Subclass (Note Person in bracket)\n",
    "class Auteur(Personne):\n",
    "    # init method or constructor\n",
    "    def __init__(self, nom, prenom, oeuvre=\"Around_the_world_in_80_days\",list_oeuvre=[\"Around_the_world_in_80_days\"]):\n",
    "        Personne.__init__(self, nom, prenom)\n",
    "        self.oeuvre = oeuvre\n",
    "        self.list_oeuvre = list_oeuvre\n",
    "\n",
    "    # Method\n",
    "    def add_oeuvre(self):\n",
    "        self.oeuvre=input(\"Ajouter votre une oeuvre: \")\n",
    "        self.list_oeuvre+=[self.oeuvre]\n",
    "        return self.list_oeuvre\n",
    "\n",
    "    def listerOeuvre(self):\n",
    "        return print(self.list_oeuvre)\n",
    "        "
   ]
  },
  {
   "cell_type": "code",
   "execution_count": null,
   "metadata": {},
   "outputs": [
    {
     "name": "stdout",
     "output_type": "stream",
     "text": [
      "['Around_the_world_in_80_days', 'yy']\n"
     ]
    }
   ],
   "source": [
    "M=Auteur('K','M')\n",
    "#M.add_oeuvre()\n",
    "M.listerOeuvre()"
   ]
  },
  {
   "cell_type": "markdown",
   "metadata": {},
   "source": [
    "Job 02.718\n",
    "\n",
    "Créer une classe “Client” héritant de “Personne”, prenant en paramètre un nom et un prenom.\n",
    "Créez une classe “Bibliotheque” avec comme attributs un nom et un catalogue: une collection de livres ou chaque livre est associé à une quantité (représenté par un nombre entier). Ajoutez les méthodes suivantes :\n",
    "- acheterLivre: Prenant en paramètre un objet auteur, le nom d’un livre ainsi qu’un nombre entier représentant une quantité. Si le livre existe bien dans l'œuvre de l’auteur, ajouter ce livre au catalogue de la bibliothèque avec la quantité correspondante.\n",
    "- inventaire: Une méthode qui affiche dans le terminal les titres des livres présents dans le catalogue ainsi que leur quantité.\n",
    "- louer: Cette méthode reçoit en paramètres une instance d’objet “Client” ainsi que le nom d’un livre. Si le livre existe et est en stock, ajoutez ce livre à la collection de livre du client et tenez à jour la quantité de ce livre dans la bibliothèque.\n",
    "- rendreLivres: Une méthode qui prend un “Client” en paramètre et qui récupère tous les livres de ce dernier et les ajoute au catalogue de la bibliothèque.\n",
    "Ajouter à la classe “Client” un attribut collection étant une collection de livres et ajouter la méthode inventaire qui affiche dans le terminal les titres des livres en possession du client.\n",
    "Ensuite, instanciez des auteurs, faites leurs écrire des livres, créer des bibliothèques, faites les acheter des livres, créez des clients, faites les louer des livres puis utilisez des fonctions d'affichage et montrez le résultat à votre examinateur."
   ]
  },
  {
   "cell_type": "code",
   "execution_count": null,
   "metadata": {},
   "outputs": [],
   "source": [
    "class Client(Personne):\n",
    "    # init method or constructor\n",
    "    def __init__(self, nom, prenom):\n",
    "        Personne.__init__(self, nom, prenom)\n",
    "\n",
    "class Bibliotheque:\n",
    "    # init method or constructor\n",
    "    def __init__(self, nom=\"Central_Library\", catalogue={}):\n",
    "        self.nom = nom\n",
    "        if catalogue is None:       \n",
    "            self.catalogue = {}\n",
    "        else:\n",
    "            self.catalogue = catalogue\n",
    "        \n",
    "    \n",
    "    # Method\n",
    "    def acheterLivre(self):\n",
    "        self.oeuvre=input(\"Ajouter votre une oeuvre: \")\n",
    "        self.numb=input(\"Combien d'oeuvre acheter: \")\n",
    "        \n",
    "        if self.oeuvre in self.catalogue.keys():\n",
    "            self.catalogue[self.oeuvre] += self.numb\n",
    "        else:  \n",
    "            self.catalogue[self.oeuvre] = self.numb\n",
    "        return self.catalogue\n",
    "\n",
    "    def inventaire(self):\n",
    "        return print(self.catalogue)\n",
    "    \n",
    "    def louer(self):\n",
    "        return print(self.list_oeuvre)\n",
    "\n",
    "    def rendreLivres(self,Client):\n",
    "        return print(self.list_oeuvre)"
   ]
  },
  {
   "cell_type": "code",
   "execution_count": null,
   "metadata": {},
   "outputs": [
    {
     "name": "stdout",
     "output_type": "stream",
     "text": [
      "{'KM': '51', 'ND': '6', 'HG': '9', 'MM': '8', 'DD': '7'}\n"
     ]
    }
   ],
   "source": [
    "CMB=Bibliotheque()\n",
    "CMB.acheterLivre()\n",
    "CMB.acheterLivre()\n",
    "CMB.acheterLivre()\n",
    "CMB.inventaire()"
   ]
  },
  {
   "cell_type": "code",
   "execution_count": null,
   "metadata": {},
   "outputs": [
    {
     "data": {
      "text/plain": [
       "dict"
      ]
     },
     "execution_count": 119,
     "metadata": {},
     "output_type": "execute_result"
    }
   ],
   "source": [
    "type(CMB.catalogue)"
   ]
  },
  {
   "cell_type": "markdown",
   "metadata": {},
   "source": [
    "Job 07.389\n",
    "\n",
    "Vous allez créer dans ce Job un jeu de puissance 4 sur plateau de taille variable ainsi qu’un algorithme qui sera capable de jouer des coups mesurés.\n",
    "\n",
    "Commencez par créer une classe “Board” prenant en paramètres de construction deux entiers i et j. Créez un attribut, sous la forme d’un tableau à 2 dimensions, représentant un plateau de jeu en deux dimensions de taille i x j. Ce tableau représente:\n",
    "- les cases vides par des O\n",
    "- les jetons jaunes par des J\n",
    "- les jetons rouges par des R\n",
    "\n",
    "Créez une méthode “play” qui prend en paramètres un nombre entier ainsi qu’une chaine de caracteres pouvant être “rouge” ou “jaune”. Le nombre entier correspond à la colonne dans laquelle un jeton de jeu est inséré et la couleur correspond à la couleur du joueur jouant ce jeton. Après un coup, tenez à jour votre plateau de jeu en plaçant le jeton le plus bas possible dans la colonne où il a été joué.\n",
    "\n",
    "Ajouter une méthode “print” affichant dans le terminal l’état du plateau de jeu. \n",
    "\n",
    "Implémentez le déroulement d’une partie en demandant aux joueurs humains de jouer à tour de rôle en choisissant la colonne dans laquelle ils souhaitent insérer leurs jetons.\n",
    "\n",
    "Le premier joueur à aligner 4 jetons de sa couleur gagne la partie et reçoit 100 000\n",
    "euros."
   ]
  },
  {
   "cell_type": "code",
   "execution_count": 33,
   "metadata": {},
   "outputs": [],
   "source": [
    "import numpy as np\n",
    "\n",
    "# Class with init method\n",
    "\n",
    "class Board:\n",
    " \n",
    "    # init method or constructor\n",
    "    def __init__(self, i=6, j=7):\n",
    "        self.i = i      # number of rows\n",
    "        self.j = j      # number of columns\n",
    "        self.board = Board.create_board(self,i,j)\n",
    "        self.turn=1     # Start with Player 1\n",
    "        self.gameover=False\n",
    "    \n",
    "    # Method\n",
    "    def create_board(self, i,j):\n",
    "        #board = np.array((self.i,self.j))\n",
    "        board =[np.array(['O' for x in range(j)]) for y in range(i)]\n",
    "        return board\n",
    "    \n",
    "    def play(self,col,piece):\n",
    "        if (self.turn == 1) and (piece =='R') and not(self.gameover):\n",
    "            #col = int(input(\"Player 1, Make your Selection(0-6):\"))\n",
    "            #Player 1 will drop a piece on the board\n",
    "            if self.is_valid_location(col):\n",
    "                row = self.get_next_open_row(col)\n",
    "                self.drop_piece(row,col,'R')\n",
    "                if self.winning_move(self.i,self.j,'R')==True:\n",
    "                #if self.winning_move(row,col,piece)=='True':\n",
    "                    print('Game Over Player 1 wins')\n",
    "                    self.gameover=True\n",
    "                else:\n",
    "                    self.turn=2\n",
    "            else:\n",
    "                print('Choose another column Player 1 \"R\":')\n",
    "         \n",
    "         #Ask for player 2 input\n",
    "        elif (self.turn == 2) and (piece =='J') and not(self.gameover):\n",
    "            #col = int(input(\"Player 2, Make your Selection(0-6):\"))\n",
    "            #Player 2 will drop a piece on the board\n",
    "            if self.is_valid_location(col):\n",
    "                row = self.get_next_open_row(col)\n",
    "                self.drop_piece(row,col,'J')\n",
    "                if self.winning_move(self.i,self.j,'J')==True:\n",
    "                #if self.winning_move(row,col,piece)=='True':\n",
    "                    print('Game Over Player 2 wins')\n",
    "                    self.gameover=True\n",
    "                else:\n",
    "                    self.turn=1\n",
    "            else:\n",
    "                print('Choose another column Player 2 \"J\":')\n",
    "\n",
    "    \n",
    "    def drop_piece(self,row,col,piece):\n",
    "        self.board[row][col]= piece\n",
    "\n",
    "    def is_valid_location(self,col):\n",
    "        #if this condition is true we will let the use drop piece here.\n",
    "        #if not true that means the col is not vacant\n",
    "        return self.board[self.i-1][col]=='O'\n",
    "    \n",
    "    def get_next_open_row(self,col):\n",
    "        for r in range(self.i):\n",
    "            if self.board[r][col]=='O':\n",
    "                return r\n",
    "\n",
    "    def winning_move(self, ROW_COUNT, COLUMN_COUNT, piece):\n",
    "        # Check horizontal locations for win\n",
    "        for c in range(COLUMN_COUNT-3):\n",
    "            for r in range(ROW_COUNT):\n",
    "                if self.board[r][c] == piece and self.board[r][c+1] == piece and self.board[r][c+2] == piece and self.board[r][c+3] == piece:\n",
    "                    return True\n",
    " \n",
    "        # Check vertical locations for win\n",
    "        for c in range(COLUMN_COUNT):\n",
    "            for r in range(ROW_COUNT-3):\n",
    "                if self.board[r][c] == piece and self.board[r+1][c] == piece and self.board[r+2][c] == piece and self.board[r+3][c] == piece:\n",
    "                    return True\n",
    " \n",
    "        # Check positively sloped diaganols\n",
    "        for c in range(COLUMN_COUNT-3):\n",
    "            for r in range(ROW_COUNT-3):\n",
    "                if self.board[r][c] == piece and self.board[r+1][c+1] == piece and self.board[r+2][c+2] == piece and self.board[r+3][c+3] == piece:\n",
    "                    return True\n",
    " \n",
    "        # Check negatively sloped diaganols\n",
    "        for c in range(COLUMN_COUNT-3):\n",
    "            for r in range(3, ROW_COUNT):\n",
    "                if self.board[r][c] == piece and self.board[r-1][c+1] == piece and self.board[r-2][c+2] == piece and self.board[r-3][c+3] == piece:\n",
    "                    return True\n",
    "\n",
    "    def print_board(self):\n",
    "        print(np.flip(self.board,0))\n",
    "        if(self.gameover=='True'):\n",
    "            print(\"Game Over\")\n",
    "     "
   ]
  },
  {
   "cell_type": "code",
   "execution_count": 34,
   "metadata": {},
   "outputs": [
    {
     "name": "stdout",
     "output_type": "stream",
     "text": [
      "Game Over Player 1 wins\n"
     ]
    }
   ],
   "source": [
    "Connect4=Board()\n",
    "#dd=Board.create_board(Connect4,10,5)\n",
    "Connect4.board\n",
    "Connect4.play(1,'R')\n",
    "Connect4.play(2,'J')\n",
    "Connect4.play(1,'R')\n",
    "Connect4.play(2,'J')\n",
    "Connect4.play(1,'R')\n",
    "Connect4.play(2,'J')    # \n",
    "Connect4.play(1,'R')\n",
    "Connect4.play(2,'J')    # \n",
    "Connect4.play(1,'R')"
   ]
  },
  {
   "cell_type": "code",
   "execution_count": 35,
   "metadata": {},
   "outputs": [
    {
     "name": "stdout",
     "output_type": "stream",
     "text": [
      "[['O' 'O' 'O' 'O' 'O' 'O' 'O']\n",
      " ['O' 'O' 'O' 'O' 'O' 'O' 'O']\n",
      " ['O' 'R' 'O' 'O' 'O' 'O' 'O']\n",
      " ['O' 'R' 'J' 'O' 'O' 'O' 'O']\n",
      " ['O' 'R' 'J' 'O' 'O' 'O' 'O']\n",
      " ['O' 'R' 'J' 'O' 'O' 'O' 'O']]\n"
     ]
    }
   ],
   "source": [
    "Connect4.print_board()"
   ]
  },
  {
   "cell_type": "code",
   "execution_count": null,
   "metadata": {},
   "outputs": [],
   "source": []
  },
  {
   "cell_type": "code",
   "execution_count": null,
   "metadata": {},
   "outputs": [],
   "source": []
  },
  {
   "cell_type": "code",
   "execution_count": 8,
   "metadata": {},
   "outputs": [
    {
     "name": "stdout",
     "output_type": "stream",
     "text": [
      "[[0. 0. 0. 0. 0. 0. 0.]\n",
      " [0. 0. 0. 0. 0. 0. 0.]\n",
      " [0. 0. 0. 0. 0. 0. 0.]\n",
      " [0. 0. 0. 0. 0. 0. 0.]\n",
      " [0. 0. 0. 0. 0. 0. 0.]\n",
      " [0. 0. 0. 0. 0. 0. 0.]]\n",
      "[[0. 0. 0. 0. 0. 0. 0.]\n",
      " [0. 0. 0. 0. 0. 0. 0.]\n",
      " [0. 0. 0. 0. 0. 0. 0.]\n",
      " [0. 0. 0. 0. 0. 0. 0.]\n",
      " [0. 0. 0. 0. 0. 0. 0.]\n",
      " [0. 1. 0. 0. 0. 0. 0.]]\n",
      "[[0. 0. 0. 0. 0. 0. 0.]\n",
      " [0. 0. 0. 0. 0. 0. 0.]\n",
      " [0. 0. 0. 0. 0. 0. 0.]\n",
      " [0. 0. 0. 0. 0. 0. 0.]\n",
      " [0. 0. 0. 0. 0. 0. 0.]\n",
      " [0. 1. 2. 0. 0. 0. 0.]]\n",
      "[[0. 0. 0. 0. 0. 0. 0.]\n",
      " [0. 0. 0. 0. 0. 0. 0.]\n",
      " [0. 0. 0. 0. 0. 0. 0.]\n",
      " [0. 0. 0. 0. 0. 0. 0.]\n",
      " [0. 1. 0. 0. 0. 0. 0.]\n",
      " [0. 1. 2. 0. 0. 0. 0.]]\n",
      "[[0. 0. 0. 0. 0. 0. 0.]\n",
      " [0. 0. 0. 0. 0. 0. 0.]\n",
      " [0. 0. 0. 0. 0. 0. 0.]\n",
      " [0. 0. 0. 0. 0. 0. 0.]\n",
      " [0. 1. 2. 0. 0. 0. 0.]\n",
      " [0. 1. 2. 0. 0. 0. 0.]]\n",
      "[[0. 0. 0. 0. 0. 0. 0.]\n",
      " [0. 0. 0. 0. 0. 0. 0.]\n",
      " [0. 0. 0. 0. 0. 0. 0.]\n",
      " [0. 1. 0. 0. 0. 0. 0.]\n",
      " [0. 1. 2. 0. 0. 0. 0.]\n",
      " [0. 1. 2. 0. 0. 0. 0.]]\n",
      "[[0. 0. 0. 0. 0. 0. 0.]\n",
      " [0. 0. 0. 0. 0. 0. 0.]\n",
      " [0. 0. 0. 0. 0. 0. 0.]\n",
      " [0. 1. 2. 0. 0. 0. 0.]\n",
      " [0. 1. 2. 0. 0. 0. 0.]\n",
      " [0. 1. 2. 0. 0. 0. 0.]]\n",
      "[[0. 0. 0. 0. 0. 0. 0.]\n",
      " [0. 0. 0. 0. 0. 0. 0.]\n",
      " [0. 1. 0. 0. 0. 0. 0.]\n",
      " [0. 1. 2. 0. 0. 0. 0.]\n",
      " [0. 1. 2. 0. 0. 0. 0.]\n",
      " [0. 1. 2. 0. 0. 0. 0.]]\n",
      "[[0. 0. 0. 0. 0. 0. 0.]\n",
      " [0. 0. 0. 0. 0. 0. 0.]\n",
      " [0. 1. 2. 0. 0. 0. 0.]\n",
      " [0. 1. 2. 0. 0. 0. 0.]\n",
      " [0. 1. 2. 0. 0. 0. 0.]\n",
      " [0. 1. 2. 0. 0. 0. 0.]]\n",
      "[[0. 0. 0. 0. 0. 0. 0.]\n",
      " [0. 1. 0. 0. 0. 0. 0.]\n",
      " [0. 1. 2. 0. 0. 0. 0.]\n",
      " [0. 1. 2. 0. 0. 0. 0.]\n",
      " [0. 1. 2. 0. 0. 0. 0.]\n",
      " [0. 1. 2. 0. 0. 0. 0.]]\n"
     ]
    },
    {
     "ename": "ValueError",
     "evalue": "invalid literal for int() with base 10: ''",
     "output_type": "error",
     "traceback": [
      "\u001b[0;31m---------------------------------------------------------------------------\u001b[0m",
      "\u001b[0;31mValueError\u001b[0m                                Traceback (most recent call last)",
      "\u001b[0;32m/tmp/ipykernel_7782/739574537.py\u001b[0m in \u001b[0;36m<module>\u001b[0;34m\u001b[0m\n\u001b[1;32m     40\u001b[0m     \u001b[0;31m#Ask for player 2 input\u001b[0m\u001b[0;34m\u001b[0m\u001b[0;34m\u001b[0m\u001b[0;34m\u001b[0m\u001b[0m\n\u001b[1;32m     41\u001b[0m     \u001b[0;32melse\u001b[0m\u001b[0;34m:\u001b[0m\u001b[0;34m\u001b[0m\u001b[0;34m\u001b[0m\u001b[0m\n\u001b[0;32m---> 42\u001b[0;31m         \u001b[0mcol\u001b[0m \u001b[0;34m=\u001b[0m \u001b[0mint\u001b[0m\u001b[0;34m(\u001b[0m\u001b[0minput\u001b[0m\u001b[0;34m(\u001b[0m\u001b[0;34m\"Player 2, Make your Selection(0-6):\"\u001b[0m\u001b[0;34m)\u001b[0m\u001b[0;34m)\u001b[0m\u001b[0;34m\u001b[0m\u001b[0;34m\u001b[0m\u001b[0m\n\u001b[0m\u001b[1;32m     43\u001b[0m         \u001b[0;31m#Player 2 will drop a piece on the board\u001b[0m\u001b[0;34m\u001b[0m\u001b[0;34m\u001b[0m\u001b[0;34m\u001b[0m\u001b[0m\n\u001b[1;32m     44\u001b[0m         \u001b[0;32mif\u001b[0m \u001b[0mis_valid_location\u001b[0m\u001b[0;34m(\u001b[0m\u001b[0mboard\u001b[0m\u001b[0;34m,\u001b[0m\u001b[0mcol\u001b[0m\u001b[0;34m)\u001b[0m\u001b[0;34m:\u001b[0m\u001b[0;34m\u001b[0m\u001b[0;34m\u001b[0m\u001b[0m\n",
      "\u001b[0;31mValueError\u001b[0m: invalid literal for int() with base 10: ''"
     ]
    }
   ],
   "source": [
    "import numpy as np\n",
    "\n",
    "ROW_COUNT = 6\n",
    "COLUMN_COUNT = 7\n",
    " \n",
    "def create_board():\n",
    "    board = np.zeros((6,7))\n",
    "    return board\n",
    " \n",
    "def drop_piece(board,row,col,piece):\n",
    "    board[row][col]= piece\n",
    " \n",
    "def is_valid_location(board,col):\n",
    "    #if this condition is true we will let the use drop piece here.\n",
    "    #if not true that means the col is not vacant\n",
    "    return board[5][col]==0\n",
    " \n",
    "def get_next_open_row(board,col):\n",
    "    for r in range(ROW_COUNT):\n",
    "        if board[r][col]==0:\n",
    "            return r\n",
    "     \n",
    "def print_board(board):\n",
    "    print(np.flip(board,0))\n",
    "     \n",
    "board = create_board()\n",
    "print_board(board)\n",
    "game_over = False\n",
    "turn = 0\n",
    " \n",
    "while not game_over:\n",
    "    #Ask for player 1 input\n",
    "    if turn == 0:\n",
    "        col = int(input(\"Player 1, Make your Selection(0-6):\"))\n",
    "        #Player 1 will drop a piece on the board\n",
    "        if is_valid_location(board,col):\n",
    "            row = get_next_open_row(board,col)\n",
    "            drop_piece(board,row,col,1)\n",
    "         \n",
    "    #Ask for player 2 input\n",
    "    else:\n",
    "        col = int(input(\"Player 2, Make your Selection(0-6):\"))\n",
    "        #Player 2 will drop a piece on the board\n",
    "        if is_valid_location(board,col):\n",
    "            row = get_next_open_row(board,col)\n",
    "            drop_piece(board,row,col,2)\n",
    " \n",
    "    print_board(board)\n",
    "             \n",
    "    turn += 1\n",
    "    turn = turn % 2"
   ]
  },
  {
   "cell_type": "markdown",
   "metadata": {},
   "source": [
    "Job 20.085\n",
    "\n",
    "Créez une classe AI_One. Cette classe devra implémenter une méthode “think” prenant en paramètres un board ainsi qu’une chaine de caracteres pouvant être “rouge” ou\n",
    "“jaune”. Cette méthode devra retourner le numéro de colonne dans laquelle jouer en tant que joueur de la couleur donnée.\n",
    "\n",
    "Implémentez le déroulement d’une partie permettant à un joueur de jouer contre AI_One."
   ]
  },
  {
   "cell_type": "code",
   "execution_count": null,
   "metadata": {},
   "outputs": [],
   "source": []
  },
  {
   "cell_type": "markdown",
   "metadata": {},
   "source": [
    "Job 54.598\n",
    "\n",
    "Créez une classe AI_Two identique à la classe AI_One mais insérez-y le code de l’IA d’un\n",
    "de vos collègues puis implémentez une partie entre ces 2 IAs."
   ]
  },
  {
   "cell_type": "code",
   "execution_count": null,
   "metadata": {},
   "outputs": [],
   "source": []
  }
 ],
 "metadata": {
  "kernelspec": {
   "display_name": "Python 3.9.0 ('ML')",
   "language": "python",
   "name": "python3"
  },
  "language_info": {
   "codemirror_mode": {
    "name": "ipython",
    "version": 3
   },
   "file_extension": ".py",
   "mimetype": "text/x-python",
   "name": "python",
   "nbconvert_exporter": "python",
   "pygments_lexer": "ipython3",
   "version": "3.9.0"
  },
  "orig_nbformat": 4,
  "vscode": {
   "interpreter": {
    "hash": "a4c85275c58627338ff240ba8a02be8c890eddadcb06abd7e2ab7960aed9a606"
   }
  }
 },
 "nbformat": 4,
 "nbformat_minor": 2
}
